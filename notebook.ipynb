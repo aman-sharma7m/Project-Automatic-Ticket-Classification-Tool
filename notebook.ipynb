{
 "cells": [
  {
   "cell_type": "code",
   "execution_count": 23,
   "metadata": {},
   "outputs": [],
   "source": [
    "#read pdf file \n",
    "import PyPDF2\n",
    "\n",
    "pdf_obj=PyPDF2.PdfReader('./data/HR Policy Manual.pdf')\n",
    "\n",
    "data=[]\n",
    "for page in pdf_obj.pages:\n",
    "  page_text=page.extract_text()\n",
    "  data.append(page_text)\n",
    "\n",
    "# print('\\n'.join(data))"
   ]
  },
  {
   "cell_type": "code",
   "execution_count": 39,
   "metadata": {},
   "outputs": [
    {
     "data": {
      "text/plain": [
       "Document(page_content=\"HR Policy Manu al \\n \\nTable of Contents:  \\n \\n• Introduction  \\n• Equal Employment Opportunity  \\n• Anti-Harassment and Anti -Discrimination  \\n• Employment Status and Records  \\n• Work Hours and Attendance  \\n• Leaves of Absence  \\n• Compensation and Benefits  \\n• Performance Management  \\n• Employee Conduct and Discip linary Actions  \\n• Termination of Employment  \\n• Grievance Procedure  \\n• Confidentiality and Data Protection  \\n• Employee Resources and Support  \\n• Amendments to the Policy Manual  \\n• Conclusion  \\n \\nIntroduction  \\nWelcome to the HR Policy Manual! This manual provides important guidelines and policies for \\nemployees. It aims to ensure a fair, respectful, and productive work environment. Please review this \\nmanual carefully and contact the HR department if you have any questions or need further \\nclarification.  \\n \\nEqual Employment Opportunity  \\nOur company is committed to providing equal employment opportunities to all individuals. We strive \\nto create a diverse and inclusive workplace. In 2022, our workforce comprised 55% male  and 45% \\nfemale employees. We actively recruit and promote individuals from different backgrounds, including \\nracial and ethnic minorities. Our goal is to maintain a workforce that reflects the diverse \\ncommunities we serve.  \\n \\nAnti-Harassment and Anti -Discrim ination  \\nWe maintain a zero -tolerance policy for harassment and discrimination. In the past year, we received \\nonly two reports of harassment, which were promptly investigated and resolved. We provide training \\nto all employees on recognizing and preventing h arassment. We encourage employees to report any \\nincidents of harassment or discrimination and ensure confidentiality throughout the investigation \\nprocess.  \\n \\nEmployment Status and Records  \\nWe classify employees into full -time, part -time, and temporary positio ns. As of June 2023, we had \\n350 full -time employees, 200 part -time employees, and 50 temporary employees. We maintain \\naccurate and up -to-date records of employees' personal information, employment contracts, \\nperformance evaluations, and any disciplinary ac tions taken.  \\n \\nWork Hours and Attendance  \\nOur standard workweek consists of 40 hours, with employees working 8 hours per day from Monday \\nto Friday. We track employee attendance through our time and attendance system. In 2022, the \\naverage attendance rate acro ss all departments was 95.7%, reflecting the commitment of our \\nemployees to their work responsibilities.  \\n \\nLeaves of Absence  \\nWe provide various types of leaves of absence, including vacation leave, sick leave, parental leave, \\nand bereavement leave. Employee s are entitled to 15 days of paid vacation leave per year. The \\naverage sick leave utilization in 2022 was 4.2 days per employee. We offer flexible parental leave \\npolicies, allowing employees to take up to 12 weeks of leave after the birth or adoption of a child.  \\n \\nCompensation and Benefits  \\nOur employees receive competitive compensation packages. In 2022, the average annual salary \\nacross all positions was $60,000. We offer a comprehensive benefits package, including health \\ninsurance, dental coverage, retireme nt plans, and employee assistance programs. On average, our \\nemployees received a 5% annual performance -based bonus.  \\n \\nPerformance Management  \\nWe conduct annual performance evaluations to assess employees' job performance and provide \\nfeedback. In 2022, the av erage performance rating across all employees was 4.2 on a scale of 1 to 5. \\nWe encourage ongoing performance discussions and provide opportunities for professional \\ndevelopment and training to help employees achieve their career goals.  \\n \\nEmployee Conduct and  Disciplinary Actions  \\nWe expect all employees to adhere to our code of conduct, which promotes professionalism, \\nrespect, and ethical behavior. Violations of the code of conduct may result in disciplinary actions, \\nincluding verbal warnings, written warnings , suspension, or termination. In 2022, we recorded three \\ninstances of disciplinary actions taken due to policy violations.  \\n \\nTermination of Employment  \\nEmployment may be terminated voluntarily or involuntarily. In 2022, 20 employees resigned \\nvoluntarily, while 10 employees were terminated due to performance -related issues. We conduct exit \\ninterviews to gather feedback from departing employees and ensure a  smooth transition.  \\n \\nGrievance Procedure  \\nWe have a structured grievance procedure in place to address employee concerns. Employees are \\nencouraged to report grievances to their immediate supervisor or the HR department. In 2022, we \\nreceived and resolved 15 grievances through our internal grievance procedure.  \\n \\nConfidentiality and Data Protection  \\nWe prioritize the confidentiality and protection of employee and company data. Employees are \\nrequired to sign confidentiality agreements and comply with data protecti on laws. We conduct \\nregular data security audits to ensure the safety of sensitive information.  \\n \\nEmployee Resources and Support  \\nWe provide resources and support to promote employee well -being and professional growth. This \\nincludes training programs, mentor ship opportunities, wellness initiatives, and access to employee \\nassistance programs. In 2022, 80% of employees participated in at least one professional \\ndevelopment program.  \\n \\nAmendments to the Policy Manual  \\nThis manual is subject to periodic review and am endments. Any updates or changes will be \\ncommunicated to employees through email or company -wide announcements. Employees are \\nresponsible for familiarizing themselves with the latest version of the manual.  \\n \\nConclusion  \\nThank you for reviewing our HR Policy Manual. It serves as a guide to ensure a positive and inclusive \\nwork environment. If you have any questions or need further information, please reach out to the HR \\ndepartment. We value your contributions and commitment to our company's success.  \\n \")"
      ]
     },
     "execution_count": 39,
     "metadata": {},
     "output_type": "execute_result"
    }
   ],
   "source": [
    "from langchain.docstore.document import Document\n",
    "docs=Document(page_content='\\n'.join(data))\n",
    "docs"
   ]
  },
  {
   "cell_type": "markdown",
   "metadata": {},
   "source": [
    "# chunking "
   ]
  },
  {
   "cell_type": "code",
   "execution_count": 21,
   "metadata": {},
   "outputs": [],
   "source": [
    "from langchain.text_splitter import RecursiveCharacterTextSplitter"
   ]
  },
  {
   "cell_type": "code",
   "execution_count": 40,
   "metadata": {},
   "outputs": [
    {
     "data": {
      "text/plain": [
       "7"
      ]
     },
     "execution_count": 40,
     "metadata": {},
     "output_type": "execute_result"
    }
   ],
   "source": [
    "#method-1\n",
    "text_splitter=RecursiveCharacterTextSplitter(chunk_size=1000,chunk_overlap=20)\n",
    "split_text=text_splitter.split_text('\\n'.join(data))\n",
    "texts=text_splitter.create_documents(split_text)\n",
    "len(texts)"
   ]
  },
  {
   "cell_type": "code",
   "execution_count": 41,
   "metadata": {},
   "outputs": [
    {
     "data": {
      "text/plain": [
       "7"
      ]
     },
     "execution_count": 41,
     "metadata": {},
     "output_type": "execute_result"
    }
   ],
   "source": [
    "#method-2\n",
    "text_splitter=RecursiveCharacterTextSplitter(chunk_size=1000,chunk_overlap=20)\n",
    "texts=text_splitter.split_documents([docs])\n",
    "len(texts)"
   ]
  },
  {
   "cell_type": "markdown",
   "metadata": {},
   "source": [
    "## embedding instance"
   ]
  },
  {
   "cell_type": "code",
   "execution_count": 72,
   "metadata": {},
   "outputs": [
    {
     "data": {
      "text/plain": [
       "384"
      ]
     },
     "execution_count": 72,
     "metadata": {},
     "output_type": "execute_result"
    }
   ],
   "source": [
    "from langchain.embeddings.sentence_transformer import SentenceTransformerEmbeddings\n",
    "from dotenv import load_dotenv\n",
    "\n",
    "load_dotenv()\n",
    "\n",
    "embdd=SentenceTransformerEmbeddings(model_name='all-MiniLM-L6-V2')\n",
    "embdd.client.get_sentence_embedding_dimension()"
   ]
  },
  {
   "cell_type": "markdown",
   "metadata": {},
   "source": [
    "## vector store pinecone"
   ]
  },
  {
   "cell_type": "code",
   "execution_count": 88,
   "metadata": {},
   "outputs": [],
   "source": [
    "from langchain.vectorstores import Pinecone\n",
    "from pinecone import Pinecone as pc, PodSpec\n",
    "\n",
    "load_dotenv()\n",
    "#create new index and deleting prev\n",
    "def store_embeddings(chunk_text,embeddings):\n",
    "  pc_config=pc()\n",
    "  index_name='pdf-store'\n",
    "\n",
    "  for name in pc_config.list_indexes().names():\n",
    "    if name!=index_name:\n",
    "      try:\n",
    "        pc_config.delete_index(name)\n",
    "        print(f'delete index {index_name}')\n",
    "      except Exception as e:\n",
    "        print('no index is there')\n",
    "  \n",
    "  if pc_config.list_indexes().names()==[]:\n",
    "    print('creating new index')\n",
    "    pc_config.create_index(name=index_name,\n",
    "                    dimension=embeddings.client.get_sentence_embedding_dimension(),\n",
    "                    metric='dotproduct',\n",
    "                    spec=PodSpec(environment='gcp-starter'))\n",
    "\n",
    "      \n",
    "  Pinecone.from_documents(chunk_text,embeddings,index_name=index_name)"
   ]
  },
  {
   "cell_type": "code",
   "execution_count": 89,
   "metadata": {},
   "outputs": [],
   "source": [
    "store_embeddings(texts,embdd)"
   ]
  },
  {
   "cell_type": "code",
   "execution_count": null,
   "metadata": {},
   "outputs": [],
   "source": []
  }
 ],
 "metadata": {
  "kernelspec": {
   "display_name": "Python 3",
   "language": "python",
   "name": "python3"
  },
  "language_info": {
   "codemirror_mode": {
    "name": "ipython",
    "version": 3
   },
   "file_extension": ".py",
   "mimetype": "text/x-python",
   "name": "python",
   "nbconvert_exporter": "python",
   "pygments_lexer": "ipython3",
   "version": "3.11.7"
  }
 },
 "nbformat": 4,
 "nbformat_minor": 2
}
